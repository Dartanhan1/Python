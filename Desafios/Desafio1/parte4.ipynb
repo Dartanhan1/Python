{
  "metadata": {
    "kernelspec": {
      "name": "python",
      "display_name": "Python (Pyodide)",
      "language": "python"
    },
    "language_info": {
      "codemirror_mode": {
        "name": "python",
        "version": 3
      },
      "file_extension": ".py",
      "mimetype": "text/x-python",
      "name": "python",
      "nbconvert_exporter": "python",
      "pygments_lexer": "ipython3",
      "version": "3.8"
    }
  },
  "nbformat_minor": 4,
  "nbformat": 4,
  "cells": [
    {
      "cell_type": "code",
      "source": "# Importando as bibliotecas pandas e matplotlib\nimport pandas as pd\nimport matplotlib.pyplot as plt",
      "metadata": {
        "trusted": true
      },
      "outputs": [],
      "execution_count": null
    },
    {
      "cell_type": "code",
      "source": "# Carregar os dados\ndf = pd.read_csv(\"googleplaystore.csv\")",
      "metadata": {
        "trusted": true
      },
      "outputs": [],
      "execution_count": null
    },
    {
      "cell_type": "code",
      "source": "# Remover linhas com valores nulos na coluna 'Price'\ndf = df.dropna(subset=['Price'])",
      "metadata": {
        "trusted": true
      },
      "outputs": [],
      "execution_count": null
    },
    {
      "cell_type": "code",
      "source": "# Remover caracteres especiais da coluna 'Price' e converter para float\ndef convert_price(price):\n    try:\n        return float(price.replace('$', ''))\n    except ValueError:\n        return None\n        \ndf['Price'] = df['Price'].apply(convert_price)",
      "metadata": {
        "trusted": true
      },
      "outputs": [],
      "execution_count": null
    },
    {
      "cell_type": "code",
      "source": "# Remover linhas com valores nulos após a conversão\ndf = df.dropna(subset=['Price'])",
      "metadata": {
        "trusted": true
      },
      "outputs": [],
      "execution_count": null
    },
    {
      "cell_type": "code",
      "source": "# Encontrar o app mais caro\napp_mais_caro = df.loc[df['Price'].idxmax()]\n\nprint(\"App mais caro:\", app_mais_caro['App'])\nprint(\"Preço:\", app_mais_caro['Price'])",
      "metadata": {
        "trusted": true
      },
      "outputs": [],
      "execution_count": null
    },
    {
      "cell_type": "code",
      "source": "# Histograma dos preços dos aplicativos\nplt.figure(figsize=(10, 6))\nplt.hist(df['Price'], bins=30, color='skyblue', edgecolor='black', alpha=0.7)\nplt.axvline(df['Price'].mean(), color='red', linestyle='dashed', linewidth=1, label='Preço Médio')\nplt.xlabel('Preço ($)')\nplt.ylabel('Frequência')\nplt.title('Histograma dos Preços dos Aplicativos')\nplt.legend()\nplt.grid(True)\nplt.show()",
      "metadata": {
        "trusted": true
      },
      "outputs": [],
      "execution_count": null
    }
  ]
}