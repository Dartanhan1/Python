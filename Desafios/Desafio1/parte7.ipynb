{
  "metadata": {
    "kernelspec": {
      "name": "python",
      "display_name": "Python (Pyodide)",
      "language": "python"
    },
    "language_info": {
      "codemirror_mode": {
        "name": "python",
        "version": 3
      },
      "file_extension": ".py",
      "mimetype": "text/x-python",
      "name": "python",
      "nbconvert_exporter": "python",
      "pygments_lexer": "ipython3",
      "version": "3.8"
    }
  },
  "nbformat_minor": 4,
  "nbformat": 4,
  "cells": [
    {
      "cell_type": "code",
      "source": "# Importando as bibliotecas pandas e matplotlib\nimport pandas as pd\nimport matplotlib.pyplot as plt",
      "metadata": {
        "trusted": true
      },
      "outputs": [],
      "execution_count": null
    },
    {
      "cell_type": "code",
      "source": "# Leitura do arquivo CSV\ngoogleplay_df = pd.read_csv(\"googleplaystore.csv\")",
      "metadata": {
        "trusted": true
      },
      "outputs": [],
      "execution_count": null
    },
    {
      "cell_type": "code",
      "source": "# Remover linhas duplicadas\ngoogleplay_df.drop_duplicates(inplace=True)",
      "metadata": {
        "trusted": true
      },
      "outputs": [],
      "execution_count": null
    },
    {
      "cell_type": "code",
      "source": "# Remover linhas com valores faltantes\ngoogleplay_df.dropna(inplace=True)",
      "metadata": {
        "trusted": true
      },
      "outputs": [],
      "execution_count": null
    },
    {
      "cell_type": "code",
      "source": "# Converter a coluna \"Installs\" para um tipo numérico\ngoogleplay_df[\"Installs\"] = googleplay_df[\"Installs\"].apply(lambda x: int(x.replace(\"+\", \"\").replace(\",\", \"\")))",
      "metadata": {
        "trusted": true
      },
      "outputs": [],
      "execution_count": null
    },
    {
      "cell_type": "code",
      "source": "# Gráfico de barras da contagem de aplicativos por categoria\ncategory_counts = googleplay_df[\"Category\"].value_counts().sort_values(ascending=False)\nplt.figure(figsize=(10, 6))\ncategory_counts.plot(kind=\"bar\")\nplt.title(\"Contagem de Aplicativos por Categoria\")\nplt.xlabel(\"Categoria\")\nplt.ylabel(\"Contagem\")\nplt.xticks(rotation=90)\nplt.show()",
      "metadata": {
        "trusted": true
      },
      "outputs": [],
      "execution_count": null
    },
    {
      "cell_type": "code",
      "source": "# Gráfico de dispersão da relação entre avaliação (Rating) e número de instalações (Installs)\nplt.figure(figsize=(10, 6))\nplt.scatter(googleplay_df[\"Rating\"], googleplay_df[\"Installs\"], alpha=0.5)\nplt.title(\"Relação entre Avaliação e Número de Instalações\")\nplt.xlabel(\"Avaliação\")\nplt.ylabel(\"Número de Instalações\")\nplt.show()",
      "metadata": {
        "trusted": true
      },
      "outputs": [],
      "execution_count": null
    }
  ]
}