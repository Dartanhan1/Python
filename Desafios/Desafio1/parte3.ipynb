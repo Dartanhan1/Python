{
  "metadata": {
    "kernelspec": {
      "name": "python",
      "display_name": "Python (Pyodide)",
      "language": "python"
    },
    "language_info": {
      "codemirror_mode": {
        "name": "python",
        "version": 3
      },
      "file_extension": ".py",
      "mimetype": "text/x-python",
      "name": "python",
      "nbconvert_exporter": "python",
      "pygments_lexer": "ipython3",
      "version": "3.8"
    }
  },
  "nbformat_minor": 4,
  "nbformat": 4,
  "cells": [
    {
      "cell_type": "code",
      "source": "# Importar as bibliotecas pandas e matplotlib\nimport pandas as pd\nimport matplotlib.pyplot as plt",
      "metadata": {
        "trusted": true
      },
      "outputs": [],
      "execution_count": null
    },
    {
      "cell_type": "code",
      "source": "# Carregar o arquivo CSV\ndf = pd.read_csv('googleplaystore.csv')",
      "metadata": {
        "trusted": true
      },
      "outputs": [],
      "execution_count": null
    },
    {
      "cell_type": "code",
      "source": "## Análise das Categorias de Apps\n# Contar a frequência de cada categoria de aplicativos\ncategory_counts = df['Category'].value_counts()",
      "metadata": {
        "trusted": true
      },
      "outputs": [],
      "execution_count": null
    },
    {
      "cell_type": "code",
      "source": "# Criar o gráfico de pizza\nplt.figure(figsize=(14, 8))\nplt.subplot(1, 2, 1)  # Definir subtrama para o gráfico de pizza\nplt.pie(category_counts, labels=category_counts.index, autopct='%1.1f%%', startangle=140)\nplt.title('Categorias de Apps na Google Play Store')\nplt.axis('equal')  # Garantir que o gráfico de pizza seja desenhado como um círculo",
      "metadata": {
        "trusted": true
      },
      "outputs": [],
      "execution_count": null
    },
    {
      "cell_type": "code",
      "source": "# Criar o gráfico de barras\nplt.subplot(1, 2, 2)  # Definir subtrama para o gráfico de barras\ncategory_counts.plot(kind='bar', color='skyblue')\nplt.title('Contagem de Apps por Categoria na Google Play Store')\nplt.xlabel('Categoria')\nplt.ylabel('Contagem')\nplt.xticks(rotation=90)  # Rotacionar rótulos do eixo x para melhor legibilidade",
      "metadata": {
        "trusted": true
      },
      "outputs": [],
      "execution_count": null
    },
    {
      "cell_type": "code",
      "source": "# Ajustar layout\nplt.tight_layout()\n",
      "metadata": {
        "trusted": true
      },
      "outputs": [],
      "execution_count": null
    },
    {
      "cell_type": "code",
      "source": "# Mostrar os gráficos\nplt.show()",
      "metadata": {
        "trusted": true
      },
      "outputs": [],
      "execution_count": null
    }
  ]
}