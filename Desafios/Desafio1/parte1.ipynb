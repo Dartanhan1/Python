{
  "metadata": {
    "kernelspec": {
      "name": "python",
      "display_name": "Python (Pyodide)",
      "language": "python"
    },
    "language_info": {
      "codemirror_mode": {
        "name": "python",
        "version": 3
      },
      "file_extension": ".py",
      "mimetype": "text/x-python",
      "name": "python",
      "nbconvert_exporter": "python",
      "pygments_lexer": "ipython3",
      "version": "3.8"
    }
  },
  "nbformat_minor": 4,
  "nbformat": 4,
  "cells": [
    {
      "cell_type": "code",
      "source": "# Importando as bibiotecas pandas e matplotlib\nimport pandas as pd\nimport matplotlib.pyplot as plt\n# Carregar o arquivo CSV\ndf = pd.read_csv('googleplaystore.csv')",
      "metadata": {
        "trusted": true
      },
      "outputs": [],
      "execution_count": null
    },
    {
      "cell_type": "code",
      "source": "# Visualizar as primeiras linhas do DataFrame\ndf.head()\n# Remover linhas duplicadas\ndf = df.drop_duplicates()",
      "metadata": {
        "trusted": true
      },
      "outputs": [],
      "execution_count": null
    },
    {
      "cell_type": "code",
      "source": "# Verificar se as linhas duplicadas foram removidas\nprint(\"Número de linhas após a remoção de duplicatas:\", len(df))\n# Salvar o DataFrame modificado em um novo arquivo CSV\ndf.to_csv('googleplaystore_no_duplicates.csv', index=False)",
      "metadata": {
        "trusted": true
      },
      "outputs": [],
      "execution_count": null
    },
    {
      "cell_type": "code",
      "source": "# Plotar histograma dos ratings dos aplicativos\nplt.hist(df['Rating'].dropna(), bins=20, edgecolor='black')\nplt.xlabel('Rating')\nplt.ylabel('Frequência')\nplt.title('Histograma dos Ratings dos Aplicativos')\nplt.show()",
      "metadata": {
        "trusted": true
      },
      "outputs": [],
      "execution_count": null
    }
  ]
}