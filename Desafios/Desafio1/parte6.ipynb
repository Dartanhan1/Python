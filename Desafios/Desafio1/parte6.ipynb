{
  "metadata": {
    "kernelspec": {
      "name": "python",
      "display_name": "Python (Pyodide)",
      "language": "python"
    },
    "language_info": {
      "codemirror_mode": {
        "name": "python",
        "version": 3
      },
      "file_extension": ".py",
      "mimetype": "text/x-python",
      "name": "python",
      "nbconvert_exporter": "python",
      "pygments_lexer": "ipython3",
      "version": "3.8"
    }
  },
  "nbformat_minor": 4,
  "nbformat": 4,
  "cells": [
    {
      "cell_type": "code",
      "source": "# Importando as bibliotecas pandas e matplotlib\nimport pandas as pd\nimport matplotlib.pyplot as plt",
      "metadata": {
        "trusted": true
      },
      "outputs": [],
      "execution_count": null
    },
    {
      "cell_type": "code",
      "source": "# Carregar o arquivo CSV\ndf = pd.read_csv('googleplaystore.csv')",
      "metadata": {
        "trusted": true
      },
      "outputs": [],
      "execution_count": null
    },
    {
      "cell_type": "code",
      "source": "\n# Exibir os primeiros registros do dataset para entender sua estrutura\nprint(\"Primeiros registros do dataset:\")\nprint(df.head())",
      "metadata": {
        "trusted": true
      },
      "outputs": [],
      "execution_count": null
    },
    {
      "cell_type": "code",
      "source": "# Contagem de apps por categoria\ncategoria_contagem = df['Category'].value_counts()",
      "metadata": {
        "trusted": true
      },
      "outputs": [],
      "execution_count": null
    },
    {
      "cell_type": "code",
      "source": "# Plotar o gráfico de barras\ncategoria_contagem.plot(kind='bar', figsize=(10, 6), color='skyblue')\nplt.title('Distribuição de Apps por Categoria')\nplt.xlabel('Categoria')\nplt.ylabel('Número de Apps')\nplt.xticks(rotation=90)\nplt.show()",
      "metadata": {
        "trusted": true
      },
      "outputs": [],
      "execution_count": null
    },
    {
      "cell_type": "code",
      "source": "# Plotar o gráfico de dispersão Rating vs Reviews\nplt.figure(figsize=(10, 6))\nplt.scatter(df['Rating'], df['Reviews'], color='green', alpha=0.5)\nplt.title('Rating vs Reviews')\nplt.xlabel('Rating')\nplt.ylabel('Reviews')\nplt.show()",
      "metadata": {
        "trusted": true
      },
      "outputs": [],
      "execution_count": null
    },
    {
      "cell_type": "code",
      "source": "# Ordenar o dataset pelo número de reviews em ordem crescente\ndf_sorted_reviews = df.sort_values(by='Reviews')",
      "metadata": {
        "trusted": true
      },
      "outputs": [],
      "execution_count": null
    },
    {
      "cell_type": "code",
      "source": "# Selecionar os top 5 apps com menor número de reviews\ntop_5_apps_reviews = df_sorted_reviews[['App', 'Reviews']].head()",
      "metadata": {
        "trusted": true
      },
      "outputs": [],
      "execution_count": null
    },
    {
      "cell_type": "code",
      "source": "# Exibir os top 5 apps por menor número de reviews em formato de lista\nprint(\"Top 5 apps por menor número de reviews:\")\nprint(top_5_apps_reviews.to_string(index=False))\n",
      "metadata": {
        "trusted": true
      },
      "outputs": [],
      "execution_count": null
    },
    {
      "cell_type": "code",
      "source": "# Converter a coluna de preço para formato numérico\ndf['Price'] = df['Price'].apply(lambda x: float(x.strip('$')) if '$' in x else 0)",
      "metadata": {
        "trusted": true
      },
      "outputs": [],
      "execution_count": null
    },
    {
      "cell_type": "code",
      "source": "# Selecionar o app mais barato existente no dataset\napp_mais_barato = df.loc[df['Price'].idxmin()]",
      "metadata": {
        "trusted": true
      },
      "outputs": [],
      "execution_count": null
    },
    {
      "cell_type": "code",
      "source": "# Exibir o app mais barato existente no dataset\nprint(\"\\nO app mais barato existente no dataset:\")\nprint(app_mais_barato['App'], \"- Preço:\", app_mais_barato['Price'])",
      "metadata": {
        "trusted": true
      },
      "outputs": [],
      "execution_count": null
    }
  ]
}