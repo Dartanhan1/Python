{
  "metadata": {
    "kernelspec": {
      "name": "python",
      "display_name": "Python (Pyodide)",
      "language": "python"
    },
    "language_info": {
      "codemirror_mode": {
        "name": "python",
        "version": 3
      },
      "file_extension": ".py",
      "mimetype": "text/x-python",
      "name": "python",
      "nbconvert_exporter": "python",
      "pygments_lexer": "ipython3",
      "version": "3.8"
    }
  },
  "nbformat_minor": 4,
  "nbformat": 4,
  "cells": [
    {
      "cell_type": "code",
      "source": "# Importando as bibliotecas pandas e matplotlib\nimport pandas as pd\nimport matplotlib.pyplot as plt",
      "metadata": {
        "trusted": true
      },
      "outputs": [],
      "execution_count": null
    },
    {
      "cell_type": "code",
      "source": "# Carregar os dados\ndf = pd.read_csv(\"googleplaystore.csv\")\n# Mostrar o top 10 apps por número de reviews\ntop_10_apps = df[['App', 'Reviews']].sort_values(by='Reviews', ascending=False).head(10)\ntop_10_apps",
      "metadata": {
        "trusted": true
      },
      "outputs": [],
      "execution_count": null
    },
    {
      "cell_type": "code",
      "source": "# Plotar um gráfico de barras dos top 10 apps por número de reviews\nplt.figure(figsize=(10,6))\nplt.barh(top_10_apps['App'], top_10_apps['Reviews'], color='skyblue')\nplt.xlabel('Número de Reviews')\nplt.ylabel('App')\nplt.title('Top 10 Apps por Número de Reviews')\nplt.gca().invert_yaxis()  # Inverter o eixo y para exibir o app com mais reviews no topo\nplt.show()",
      "metadata": {
        "trusted": true
      },
      "outputs": [],
      "execution_count": null
    }
  ]
}