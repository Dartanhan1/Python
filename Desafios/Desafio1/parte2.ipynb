{
  "metadata": {
    "kernelspec": {
      "name": "python",
      "display_name": "Python (Pyodide)",
      "language": "python"
    },
    "language_info": {
      "codemirror_mode": {
        "name": "python",
        "version": 3
      },
      "file_extension": ".py",
      "mimetype": "text/x-python",
      "name": "python",
      "nbconvert_exporter": "python",
      "pygments_lexer": "ipython3",
      "version": "3.8"
    }
  },
  "nbformat_minor": 4,
  "nbformat": 4,
  "cells": [
    {
      "cell_type": "code",
      "source": "# Importando as bibliotecas pandas e matplotlib\nimport pandas as pd\nimport matplotlib.pyplot as plt",
      "metadata": {
        "trusted": true
      },
      "outputs": [],
      "execution_count": null
    },
    {
      "cell_type": "code",
      "source": "# Ler o arquivo CSV\ndf = pd.read_csv('googleplaystore.csv')",
      "metadata": {
        "trusted": true
      },
      "outputs": [],
      "execution_count": null
    },
    {
      "cell_type": "code",
      "source": "# Limpar a coluna 'Installs' removendo caracteres não numéricos\ndf['Installs'] = df['Installs'].str.replace('[^\\d]', '', regex=True)",
      "metadata": {
        "trusted": true
      },
      "outputs": [],
      "execution_count": null
    },
    {
      "cell_type": "code",
      "source": "# Converter a coluna 'Installs' para o tipo numérico\ndf['Installs'] = pd.to_numeric(df['Installs'], errors='coerce')",
      "metadata": {
        "trusted": true
      },
      "outputs": [],
      "execution_count": null
    },
    {
      "cell_type": "code",
      "source": "# Remover linhas com valores nulos na coluna 'Installs'\ndf = df.dropna(subset=['Installs'])",
      "metadata": {
        "trusted": true
      },
      "outputs": [],
      "execution_count": null
    },
    {
      "cell_type": "code",
      "source": "# Converter instalações para bilhões e milhões\ndf['Installs (Billion)'] = df['Installs'] / 1e9\ndf['Installs (Million)'] = df['Installs'] / 1e6",
      "metadata": {
        "trusted": true
      },
      "outputs": [],
      "execution_count": null
    },
    {
      "cell_type": "code",
      "source": "# Gráfico de barras com os top 5 apps por número de instalação\ntop_apps = df.nlargest(5, 'Installs')\nplt.figure(figsize=(10, 6))\nplt.bar(top_apps['App'], top_apps['Installs (Billion)'], color='skyblue')\nplt.xlabel('App')\nplt.ylabel('Número de Instalações (Bilhões)')\nplt.title('Top 5 Apps por Número de Instalação')\nplt.xticks(rotation=45, ha='right')\nplt.tight_layout()\nplt.show()",
      "metadata": {
        "trusted": true
      },
      "outputs": [],
      "execution_count": null
    }
  ]
}